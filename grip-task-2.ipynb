{
 "cells": [
  {
   "cell_type": "code",
   "execution_count": 1,
   "id": "662c4909",
   "metadata": {
    "_cell_guid": "b1076dfc-b9ad-4769-8c92-a6c4dae69d19",
    "_uuid": "8f2839f25d086af736a60e9eeb907d3b93b6e0e5",
    "execution": {
     "iopub.execute_input": "2021-07-10T07:47:15.872042Z",
     "iopub.status.busy": "2021-07-10T07:47:15.871325Z",
     "iopub.status.idle": "2021-07-10T07:47:15.884403Z",
     "shell.execute_reply": "2021-07-10T07:47:15.884985Z",
     "shell.execute_reply.started": "2021-07-08T05:54:06.496588Z"
    },
    "papermill": {
     "duration": 0.038785,
     "end_time": "2021-07-10T07:47:15.885365",
     "exception": false,
     "start_time": "2021-07-10T07:47:15.846580",
     "status": "completed"
    },
    "tags": []
   },
   "outputs": [
    {
     "name": "stdout",
     "output_type": "stream",
     "text": [
      "/kaggle/input/grip-task2/Iris.csv\n"
     ]
    }
   ],
   "source": [
    "# This Python 3 environment comes with many helpful analytics libraries installed\n",
    "# It is defined by the kaggle/python Docker image: https://github.com/kaggle/docker-python\n",
    "# For example, here's several helpful packages to load\n",
    "\n",
    "import numpy as np # linear algebra\n",
    "import pandas as pd # data processing, CSV file I/O (e.g. pd.read_csv)\n",
    "\n",
    "# Input data files are available in the read-only \"../input/\" directory\n",
    "# For example, running this (by clicking run or pressing Shift+Enter) will list all files under the input directory\n",
    "\n",
    "import os\n",
    "for dirname, _, filenames in os.walk('/kaggle/input'):\n",
    "    for filename in filenames:\n",
    "        print(os.path.join(dirname, filename))\n",
    "\n",
    "# You can write up to 20GB to the current directory (/kaggle/working/) that gets preserved as output when you create a version using \"Save & Run All\" \n",
    "# You can also write temporary files to /kaggle/temp/, but they won't be saved outside of the current session"
   ]
  },
  {
   "cell_type": "markdown",
   "id": "4ff52ab0",
   "metadata": {
    "papermill": {
     "duration": 0.011689,
     "end_time": "2021-07-10T07:47:15.910175",
     "exception": false,
     "start_time": "2021-07-10T07:47:15.898486",
     "status": "completed"
    },
    "tags": []
   },
   "source": [
    "# GRIP JULY21"
   ]
  },
  {
   "cell_type": "markdown",
   "id": "bc2a8d4c",
   "metadata": {
    "papermill": {
     "duration": 0.011598,
     "end_time": "2021-07-10T07:47:15.933632",
     "exception": false,
     "start_time": "2021-07-10T07:47:15.922034",
     "status": "completed"
    },
    "tags": []
   },
   "source": [
    "# Author: Kushagra Gupta\n",
    "# Grip Task2\n",
    "# Title: Prediction using unsupervised Ml\n"
   ]
  },
  {
   "cell_type": "markdown",
   "id": "e9138280",
   "metadata": {
    "papermill": {
     "duration": 0.011691,
     "end_time": "2021-07-10T07:47:15.957616",
     "exception": false,
     "start_time": "2021-07-10T07:47:15.945925",
     "status": "completed"
    },
    "tags": []
   },
   "source": [
    "``Importing suitable libraries``"
   ]
  },
  {
   "cell_type": "code",
   "execution_count": 2,
   "id": "53021305",
   "metadata": {
    "execution": {
     "iopub.execute_input": "2021-07-10T07:47:15.986501Z",
     "iopub.status.busy": "2021-07-10T07:47:15.985804Z",
     "iopub.status.idle": "2021-07-10T07:47:17.237415Z",
     "shell.execute_reply": "2021-07-10T07:47:17.236709Z",
     "shell.execute_reply.started": "2021-07-08T05:54:06.522349Z"
    },
    "papermill": {
     "duration": 1.267939,
     "end_time": "2021-07-10T07:47:17.237558",
     "exception": false,
     "start_time": "2021-07-10T07:47:15.969619",
     "status": "completed"
    },
    "tags": []
   },
   "outputs": [],
   "source": [
    "import pandas as pd\n",
    "import numpy as np\n",
    "import seaborn as sns\n",
    "import matplotlib.pyplot as plt \n",
    "from sklearn import datasets"
   ]
  },
  {
   "cell_type": "markdown",
   "id": "d4b0dc81",
   "metadata": {
    "papermill": {
     "duration": 0.011663,
     "end_time": "2021-07-10T07:47:17.261446",
     "exception": false,
     "start_time": "2021-07-10T07:47:17.249783",
     "status": "completed"
    },
    "tags": []
   },
   "source": [
    "``Loading the datasets``"
   ]
  },
  {
   "cell_type": "code",
   "execution_count": 3,
   "id": "5f0e8fa9",
   "metadata": {
    "execution": {
     "iopub.execute_input": "2021-07-10T07:47:17.290439Z",
     "iopub.status.busy": "2021-07-10T07:47:17.289767Z",
     "iopub.status.idle": "2021-07-10T07:47:17.325334Z",
     "shell.execute_reply": "2021-07-10T07:47:17.325790Z",
     "shell.execute_reply.started": "2021-07-08T05:54:06.530905Z"
    },
    "papermill": {
     "duration": 0.052519,
     "end_time": "2021-07-10T07:47:17.325991",
     "exception": false,
     "start_time": "2021-07-10T07:47:17.273472",
     "status": "completed"
    },
    "tags": []
   },
   "outputs": [
    {
     "data": {
      "text/html": [
       "<div>\n",
       "<style scoped>\n",
       "    .dataframe tbody tr th:only-of-type {\n",
       "        vertical-align: middle;\n",
       "    }\n",
       "\n",
       "    .dataframe tbody tr th {\n",
       "        vertical-align: top;\n",
       "    }\n",
       "\n",
       "    .dataframe thead th {\n",
       "        text-align: right;\n",
       "    }\n",
       "</style>\n",
       "<table border=\"1\" class=\"dataframe\">\n",
       "  <thead>\n",
       "    <tr style=\"text-align: right;\">\n",
       "      <th></th>\n",
       "      <th>sepal length (cm)</th>\n",
       "      <th>sepal width (cm)</th>\n",
       "      <th>petal length (cm)</th>\n",
       "      <th>petal width (cm)</th>\n",
       "    </tr>\n",
       "  </thead>\n",
       "  <tbody>\n",
       "    <tr>\n",
       "      <th>0</th>\n",
       "      <td>5.1</td>\n",
       "      <td>3.5</td>\n",
       "      <td>1.4</td>\n",
       "      <td>0.2</td>\n",
       "    </tr>\n",
       "    <tr>\n",
       "      <th>1</th>\n",
       "      <td>4.9</td>\n",
       "      <td>3.0</td>\n",
       "      <td>1.4</td>\n",
       "      <td>0.2</td>\n",
       "    </tr>\n",
       "    <tr>\n",
       "      <th>2</th>\n",
       "      <td>4.7</td>\n",
       "      <td>3.2</td>\n",
       "      <td>1.3</td>\n",
       "      <td>0.2</td>\n",
       "    </tr>\n",
       "    <tr>\n",
       "      <th>3</th>\n",
       "      <td>4.6</td>\n",
       "      <td>3.1</td>\n",
       "      <td>1.5</td>\n",
       "      <td>0.2</td>\n",
       "    </tr>\n",
       "    <tr>\n",
       "      <th>4</th>\n",
       "      <td>5.0</td>\n",
       "      <td>3.6</td>\n",
       "      <td>1.4</td>\n",
       "      <td>0.2</td>\n",
       "    </tr>\n",
       "  </tbody>\n",
       "</table>\n",
       "</div>"
      ],
      "text/plain": [
       "   sepal length (cm)  sepal width (cm)  petal length (cm)  petal width (cm)\n",
       "0                5.1               3.5                1.4               0.2\n",
       "1                4.9               3.0                1.4               0.2\n",
       "2                4.7               3.2                1.3               0.2\n",
       "3                4.6               3.1                1.5               0.2\n",
       "4                5.0               3.6                1.4               0.2"
      ]
     },
     "execution_count": 3,
     "metadata": {},
     "output_type": "execute_result"
    }
   ],
   "source": [
    "iris=datasets.load_iris()\n",
    "iris_df=pd.DataFrame(iris.data,columns=iris.feature_names)\n",
    "iris_df.head() #displaying the first 5 columns\n"
   ]
  },
  {
   "cell_type": "markdown",
   "id": "655cf617",
   "metadata": {
    "papermill": {
     "duration": 0.012583,
     "end_time": "2021-07-10T07:47:17.351109",
     "exception": false,
     "start_time": "2021-07-10T07:47:17.338526",
     "status": "completed"
    },
    "tags": []
   },
   "source": [
    "# Finding the optimal number of clusters of k means"
   ]
  },
  {
   "cell_type": "code",
   "execution_count": 4,
   "id": "8966312e",
   "metadata": {
    "execution": {
     "iopub.execute_input": "2021-07-10T07:47:17.384438Z",
     "iopub.status.busy": "2021-07-10T07:47:17.383596Z",
     "iopub.status.idle": "2021-07-10T07:47:18.327573Z",
     "shell.execute_reply": "2021-07-10T07:47:18.326983Z",
     "shell.execute_reply.started": "2021-07-08T05:54:06.573893Z"
    },
    "papermill": {
     "duration": 0.964254,
     "end_time": "2021-07-10T07:47:18.327717",
     "exception": false,
     "start_time": "2021-07-10T07:47:17.363463",
     "status": "completed"
    },
    "tags": []
   },
   "outputs": [],
   "source": [
    "x=iris_df.iloc[:,[0,1,2,3]].values\n",
    "from sklearn.cluster import KMeans\n",
    "wcss=[]\n",
    "for i in range(1,11):\n",
    "    kmeans=KMeans(n_clusters=i,init='k-means++',max_iter=300,n_init=10,random_state=0)\n",
    "    kmeans.fit(x)\n",
    "    wcss.append(kmeans.inertia_)\n",
    "    "
   ]
  },
  {
   "cell_type": "markdown",
   "id": "852e7018",
   "metadata": {
    "papermill": {
     "duration": 0.012689,
     "end_time": "2021-07-10T07:47:18.354126",
     "exception": false,
     "start_time": "2021-07-10T07:47:18.341437",
     "status": "completed"
    },
    "tags": []
   },
   "source": [
    "``Plotting the curve``"
   ]
  },
  {
   "cell_type": "code",
   "execution_count": 5,
   "id": "bdea775d",
   "metadata": {
    "execution": {
     "iopub.execute_input": "2021-07-10T07:47:18.398513Z",
     "iopub.status.busy": "2021-07-10T07:47:18.395819Z",
     "iopub.status.idle": "2021-07-10T07:47:18.571116Z",
     "shell.execute_reply": "2021-07-10T07:47:18.570442Z",
     "shell.execute_reply.started": "2021-07-08T05:54:06.977135Z"
    },
    "papermill": {
     "duration": 0.204166,
     "end_time": "2021-07-10T07:47:18.571263",
     "exception": false,
     "start_time": "2021-07-10T07:47:18.367097",
     "status": "completed"
    },
    "tags": []
   },
   "outputs": [
    {
     "data": {
      "image/png": "[encoded data removed]",
      "text/plain": [
       "<Figure size 432x288 with 1 Axes>"
      ]
     },
     "metadata": {
      "needs_background": "light"
     },
     "output_type": "display_data"
    }
   ],
   "source": [
    "plt.plot(range(1,11),wcss)\n",
    "plt.title('Elbow Method',size=20)\n",
    "plt.grid()\n",
    "plt.xlabel('Number of clusters',size=20)\n",
    "plt.ylabel('WCSS',size=20)\n",
    "plt.show()"
   ]
  },
  {
   "cell_type": "markdown",
   "id": "9407fce9",
   "metadata": {
    "papermill": {
     "duration": 0.013584,
     "end_time": "2021-07-10T07:47:18.598571",
     "exception": false,
     "start_time": "2021-07-10T07:47:18.584987",
     "status": "completed"
    },
    "tags": []
   },
   "source": [
    "``This curve is called Elbow curve because this is shape like an elbow and corner of the elbow shows the optimum solution.This is when the wcss does not change significantly with every iteration``"
   ]
  },
  {
   "cell_type": "code",
   "execution_count": 6,
   "id": "eb377bfd",
   "metadata": {
    "execution": {
     "iopub.execute_input": "2021-07-10T07:47:18.634556Z",
     "iopub.status.busy": "2021-07-10T07:47:18.633832Z",
     "iopub.status.idle": "2021-07-10T07:47:18.662926Z",
     "shell.execute_reply": "2021-07-10T07:47:18.663485Z",
     "shell.execute_reply.started": "2021-07-08T05:54:07.139549Z"
    },
    "papermill": {
     "duration": 0.051086,
     "end_time": "2021-07-10T07:47:18.663667",
     "exception": false,
     "start_time": "2021-07-10T07:47:18.612581",
     "status": "completed"
    },
    "tags": []
   },
   "outputs": [],
   "source": [
    "kmeans=KMeans(n_clusters=3,init='k-means++',max_iter=300,n_init=10,random_state=0)\n",
    "y_kmeans=kmeans.fit_predict(x)"
   ]
  },
  {
   "cell_type": "markdown",
   "id": "391f50b6",
   "metadata": {
    "papermill": {
     "duration": 0.013156,
     "end_time": "2021-07-10T07:47:18.690474",
     "exception": false,
     "start_time": "2021-07-10T07:47:18.677318",
     "status": "completed"
    },
    "tags": []
   },
   "source": [
    "``Plotting the sactter plot``"
   ]
  },
  {
   "cell_type": "code",
   "execution_count": 7,
   "id": "b0eadd96",
   "metadata": {
    "execution": {
     "iopub.execute_input": "2021-07-10T07:47:18.721678Z",
     "iopub.status.busy": "2021-07-10T07:47:18.721012Z",
     "iopub.status.idle": "2021-07-10T07:47:19.088653Z",
     "shell.execute_reply": "2021-07-10T07:47:19.089188Z",
     "shell.execute_reply.started": "2021-07-08T05:54:07.177267Z"
    },
    "papermill": {
     "duration": 0.385386,
     "end_time": "2021-07-10T07:47:19.089367",
     "exception": false,
     "start_time": "2021-07-10T07:47:18.703981",
     "status": "completed"
    },
    "tags": []
   },
   "outputs": [
    {
     "data": {
      "text/plain": [
       "<matplotlib.legend.Legend at 0x7fe35a8ed7d0>"
      ]
     },
     "execution_count": 7,
     "metadata": {},
     "output_type": "execute_result"
    },
    {
     "data": {
      "image/png": "[encoded data removed]",
      "text/plain": [
       "<Figure size 432x288 with 1 Axes>"
      ]
     },
     "metadata": {
      "needs_background": "light"
     },
     "output_type": "display_data"
    }
   ],
   "source": [
    "plt.scatter(x[y_kmeans == 0, 0], x[y_kmeans == 0, 1], \n",
    "            s = 100, c = 'red', label = 'Iris-setosa')\n",
    "plt.scatter(x[y_kmeans == 1, 0], x[y_kmeans == 1, 1], \n",
    "            s = 100, c = 'blue', label = 'Iris-versicolour')\n",
    "plt.scatter(x[y_kmeans == 2, 0], x[y_kmeans == 2, 1],\n",
    "            s = 100, c = 'green', label = 'Iris-virginica')\n",
    "\n",
    "\n",
    "plt.scatter(kmeans.cluster_centers_[:, 0], kmeans.cluster_centers_[:,1], \n",
    "            s = 100, c = 'yellow', label = 'Centroids')\n",
    "\n",
    "plt.legend()"
   ]
  },
  {
   "cell_type": "markdown",
   "id": "6ba72309",
   "metadata": {
    "papermill": {
     "duration": 0.015021,
     "end_time": "2021-07-10T07:47:19.119738",
     "exception": false,
     "start_time": "2021-07-10T07:47:19.104717",
     "status": "completed"
    },
    "tags": []
   },
   "source": [
    "# Here we get about the K-Means Clustering"
   ]
  },
  {
   "cell_type": "code",
   "execution_count": null,
   "id": "35e0cfee",
   "metadata": {
    "papermill": {
     "duration": 0.014949,
     "end_time": "2021-07-10T07:47:19.150143",
     "exception": false,
     "start_time": "2021-07-10T07:47:19.135194",
     "status": "completed"
    },
    "tags": []
   },
   "outputs": [],
   "source": []
  }
 ],
 "metadata": {
  "kernelspec": {
   "display_name": "Python 3",
   "language": "python",
   "name": "python3"
  },
  "language_info": {
   "codemirror_mode": {
    "name": "ipython",
    "version": 3
   },
   "file_extension": ".py",
   "mimetype": "text/x-python",
   "name": "python",
   "nbconvert_exporter": "python",
   "pygments_lexer": "ipython3",
   "version": "3.7.10"
  },
  "papermill": {
   "default_parameters": {},
   "duration": 13.864412,
   "end_time": "2021-07-10T07:47:20.944155",
   "environment_variables": {},
   "exception": null,
   "input_path": "__notebook__.ipynb",
   "output_path": "__notebook__.ipynb",
   "parameters": {},
   "start_time": "2021-07-10T07:47:07.079743",
   "version": "2.3.3"
  }
 },
 "nbformat": 4,
 "nbformat_minor": 5
}
